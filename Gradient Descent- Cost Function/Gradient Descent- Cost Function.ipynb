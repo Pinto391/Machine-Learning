{
 "cells": [
  {
   "cell_type": "code",
   "execution_count": 4,
   "metadata": {},
   "outputs": [
    {
     "name": "stderr",
     "output_type": "stream",
     "text": [
      "C:\\Users\\pinto\\anaconda3\\lib\\importlib\\_bootstrap.py:219: RuntimeWarning: numpy.ufunc size changed, may indicate binary incompatibility. Expected 192 from C header, got 216 from PyObject\n",
      "  return f(*args, **kwds)\n"
     ]
    }
   ],
   "source": [
    "import numpy as np\n",
    "import pandas as pd \n",
    "import math"
   ]
  },
  {
   "cell_type": "code",
   "execution_count": 5,
   "metadata": {},
   "outputs": [
    {
     "data": {
      "text/html": [
       "<div>\n",
       "<style scoped>\n",
       "    .dataframe tbody tr th:only-of-type {\n",
       "        vertical-align: middle;\n",
       "    }\n",
       "\n",
       "    .dataframe tbody tr th {\n",
       "        vertical-align: top;\n",
       "    }\n",
       "\n",
       "    .dataframe thead th {\n",
       "        text-align: right;\n",
       "    }\n",
       "</style>\n",
       "<table border=\"1\" class=\"dataframe\">\n",
       "  <thead>\n",
       "    <tr style=\"text-align: right;\">\n",
       "      <th></th>\n",
       "      <th>name</th>\n",
       "      <th>math</th>\n",
       "      <th>cs</th>\n",
       "    </tr>\n",
       "  </thead>\n",
       "  <tbody>\n",
       "    <tr>\n",
       "      <th>0</th>\n",
       "      <td>david</td>\n",
       "      <td>92</td>\n",
       "      <td>98</td>\n",
       "    </tr>\n",
       "    <tr>\n",
       "      <th>1</th>\n",
       "      <td>laura</td>\n",
       "      <td>56</td>\n",
       "      <td>68</td>\n",
       "    </tr>\n",
       "    <tr>\n",
       "      <th>2</th>\n",
       "      <td>sanjay</td>\n",
       "      <td>88</td>\n",
       "      <td>81</td>\n",
       "    </tr>\n",
       "    <tr>\n",
       "      <th>3</th>\n",
       "      <td>wei</td>\n",
       "      <td>70</td>\n",
       "      <td>80</td>\n",
       "    </tr>\n",
       "    <tr>\n",
       "      <th>4</th>\n",
       "      <td>jeff</td>\n",
       "      <td>80</td>\n",
       "      <td>83</td>\n",
       "    </tr>\n",
       "    <tr>\n",
       "      <th>5</th>\n",
       "      <td>aamir</td>\n",
       "      <td>49</td>\n",
       "      <td>52</td>\n",
       "    </tr>\n",
       "    <tr>\n",
       "      <th>6</th>\n",
       "      <td>venkat</td>\n",
       "      <td>65</td>\n",
       "      <td>66</td>\n",
       "    </tr>\n",
       "    <tr>\n",
       "      <th>7</th>\n",
       "      <td>virat</td>\n",
       "      <td>35</td>\n",
       "      <td>30</td>\n",
       "    </tr>\n",
       "    <tr>\n",
       "      <th>8</th>\n",
       "      <td>arthur</td>\n",
       "      <td>66</td>\n",
       "      <td>68</td>\n",
       "    </tr>\n",
       "    <tr>\n",
       "      <th>9</th>\n",
       "      <td>paul</td>\n",
       "      <td>67</td>\n",
       "      <td>73</td>\n",
       "    </tr>\n",
       "  </tbody>\n",
       "</table>\n",
       "</div>"
      ],
      "text/plain": [
       "     name  math  cs\n",
       "0   david    92  98\n",
       "1   laura    56  68\n",
       "2  sanjay    88  81\n",
       "3     wei    70  80\n",
       "4    jeff    80  83\n",
       "5   aamir    49  52\n",
       "6  venkat    65  66\n",
       "7   virat    35  30\n",
       "8  arthur    66  68\n",
       "9    paul    67  73"
      ]
     },
     "execution_count": 5,
     "metadata": {},
     "output_type": "execute_result"
    }
   ],
   "source": [
    "df= pd.read_csv(r\"F:\\WORK\\Machine Learning\\Gradient Descent- Cost Function\\test_scores.csv\")\n",
    "df"
   ]
  },
  {
   "cell_type": "code",
   "execution_count": 20,
   "metadata": {
    "scrolled": true
   },
   "outputs": [
    {
     "name": "stdout",
     "output_type": "stream",
     "text": [
      "m 0.9891800000000002,b 0.013980000000000001,cost 5199.1,iterations 0\n",
      "m 1.0416176032,b 0.0147417592,cost 46.3330473650399,iterations 1\n",
      "m 1.0443971065873279,b 0.014802799669408,cost 31.852649863558305,iterations 2\n",
      "m 1.0445441606668626,b 0.014826693765467417,cost 31.811952059367805,iterations 3\n",
      "m 1.0445516647187705,b 0.014848618440205038,cost 31.811832943358482,iterations 4\n",
      "m 1.0445517710206773,b 0.014870438475874223,cost 31.81182786237329,iterations 5\n",
      "m 1.0445514851602624,b 0.0148922527273428,cost 31.811823101960222,iterations 6\n",
      "m 1.0445511785140886,b 0.014914066435056226,cost 31.81181834255699,iterations 7\n",
      "m 1.0445508707693771,b 0.01493587987682099,cost 31.811813583265543,iterations 8\n",
      "m 1.0445505629697767,b 0.014957693067366749,cost 31.811808824083364,iterations 9\n",
      "m 1.044550255170612,b 0.014979506007477059,cost 31.811804065010467,iterations 10\n",
      "m 1.0445499473748168,b 0.015001318697196186,cost 31.81179930604682,iterations 11\n",
      "m 1.0445496395825458,b 0.015023131136529195,cost 31.811794547192434,iterations 12\n",
      "m 1.0445493317938075,b 0.015044943325479078,cost 31.81178978844727,iterations 13\n",
      "m 1.0445490240086022,b 0.015066755264048713,cost 31.811785029811393,iterations 14\n",
      "m 1.04454871622693,b 0.015088566952240978,cost 31.81178027128471,iterations 15\n",
      "m 1.0445484084487908,b 0.015110378390058745,cost 31.811775512867314,iterations 16\n",
      "m 1.0445481006741846,b 0.015132189577504887,cost 31.811770754559184,iterations 17\n",
      "m 1.0445477929031113,b 0.01515400051458228,cost 31.811765996360236,iterations 18\n",
      "m 1.0445474851355707,b 0.015175811201293797,cost 31.811761238270567,iterations 19\n",
      "m 1.044547177371563,b 0.015197621637642314,cost 31.8117564802901,iterations 20\n",
      "m 1.0445468696110882,b 0.015219431823630702,cost 31.811751722418904,iterations 21\n",
      "m 1.0445465618541463,b 0.015241241759261838,cost 31.81174696465691,iterations 22\n",
      "m 1.0445462541007369,b 0.015263051444538593,cost 31.811742207004155,iterations 23\n",
      "m 1.0445459463508602,b 0.015284860879463841,cost 31.81173744946062,iterations 24\n",
      "m 1.0445456386045162,b 0.015306670064040457,cost 31.811732692026307,iterations 25\n",
      "m 1.0445453308617048,b 0.015328478998271312,cost 31.811727934701214,iterations 26\n",
      "m 1.0445450231224258,b 0.015350287682159283,cost 31.81172317748536,iterations 27\n",
      "m 1.0445447153866794,b 0.015372096115707242,cost 31.811718420378693,iterations 28\n",
      "m 1.0445444076544654,b 0.015393904298918064,cost 31.811713663381234,iterations 29\n",
      "m 1.044544099925784,b 0.015415712231794622,cost 31.811708906493,iterations 30\n",
      "m 1.0445437922006349,b 0.015437519914339788,cost 31.811704149713975,iterations 31\n",
      "m 1.0445434844790182,b 0.015459327346556438,cost 31.81169939304415,iterations 32\n",
      "m 1.0445431767609337,b 0.015481134528447443,cost 31.81169463648351,iterations 33\n",
      "m 1.0445428690463816,b 0.01550294146001568,cost 31.8116898800321,iterations 34\n",
      "m 1.0445425613353618,b 0.01552474814126402,cost 31.811685123689838,iterations 35\n",
      "m 1.044542253627874,b 0.015546554572195332,cost 31.811680367456837,iterations 36\n",
      "m 1.0445419459239182,b 0.015568360752812498,cost 31.811675611332994,iterations 37\n",
      "m 1.0445416382234949,b 0.015590166683118389,cost 31.811670855318336,iterations 38\n",
      "m 1.0445413305266036,b 0.015611972363115874,cost 31.81166609941286,iterations 39\n",
      "m 1.0445410228332441,b 0.015633777792807828,cost 31.811661343616585,iterations 40\n",
      "m 1.0445407151434167,b 0.015655582972197123,cost 31.811656587929505,iterations 41\n",
      "m 1.0445404074571212,b 0.015677387901286637,cost 31.811651832351572,iterations 42\n",
      "m 1.0445400997743577,b 0.01569919258007924,cost 31.811647076882846,iterations 43\n",
      "m 1.044539792095126,b 0.015720997008577806,cost 31.811642321523266,iterations 44\n",
      "m 1.0445394844194262,b 0.015742801186785206,cost 31.811637566272857,iterations 45\n",
      "m 1.044539176747258,b 0.015764605114704313,cost 31.81163281113166,iterations 46\n",
      "m 1.0445388690786215,b 0.015786408792338003,cost 31.81162805609962,iterations 47\n",
      "m 1.044538561413517,b 0.01580821221968915,cost 31.811623301176713,iterations 48\n",
      "m 1.0445382537519439,b 0.015830015396760624,cost 31.81161854636297,iterations 49\n"
     ]
    },
    {
     "data": {
      "text/plain": [
       "(1.0445382537519439, 0.015830015396760624)"
      ]
     },
     "execution_count": 20,
     "metadata": {},
     "output_type": "execute_result"
    }
   ],
   "source": [
    "def gradient_descent(x,y):\n",
    "    m_curr=0\n",
    "    b_curr=0\n",
    "    iterations=50\n",
    "    n= len(x)\n",
    "    learning_rate=0.0001\n",
    "    \n",
    "    for i in range(iterations):\n",
    "        yp=m_curr*x+b_curr\n",
    "        cost=(1/n)*sum([val**2 for val in (y-yp)])\n",
    "        md=-(2/n)*sum (x*(y-yp))\n",
    "        bd=-(2/n)*sum (y-yp)\n",
    "        m_curr=m_curr-learning_rate*md\n",
    "        b_curr=b_curr-learning_rate*bd\n",
    "        \n",
    "        print(\"m {},b {},cost {},iterations {}\".format(m_curr,b_curr,cost,i))\n",
    "        \n",
    "    return m_curr, b_curr\n",
    "\n",
    "x=np.array(df.math)\n",
    "y=np.array(df.cs)\n",
    "gradient_descent(x,y)"
   ]
  },
  {
   "cell_type": "code",
   "execution_count": 17,
   "metadata": {},
   "outputs": [
    {
     "data": {
      "text/plain": [
       "96.10979999999999"
      ]
     },
     "execution_count": 17,
     "metadata": {},
     "output_type": "execute_result"
    }
   ],
   "source": [
    "yp=92*1.0445+.0158\n",
    "yp"
   ]
  },
  {
   "cell_type": "code",
   "execution_count": 8,
   "metadata": {},
   "outputs": [],
   "source": [
    "from sklearn import linear_model"
   ]
  },
  {
   "cell_type": "code",
   "execution_count": 12,
   "metadata": {},
   "outputs": [
    {
     "data": {
      "text/html": [
       "<div>\n",
       "<style scoped>\n",
       "    .dataframe tbody tr th:only-of-type {\n",
       "        vertical-align: middle;\n",
       "    }\n",
       "\n",
       "    .dataframe tbody tr th {\n",
       "        vertical-align: top;\n",
       "    }\n",
       "\n",
       "    .dataframe thead th {\n",
       "        text-align: right;\n",
       "    }\n",
       "</style>\n",
       "<table border=\"1\" class=\"dataframe\">\n",
       "  <thead>\n",
       "    <tr style=\"text-align: right;\">\n",
       "      <th></th>\n",
       "      <th>math</th>\n",
       "      <th>cs</th>\n",
       "    </tr>\n",
       "  </thead>\n",
       "  <tbody>\n",
       "    <tr>\n",
       "      <th>0</th>\n",
       "      <td>92</td>\n",
       "      <td>98</td>\n",
       "    </tr>\n",
       "    <tr>\n",
       "      <th>1</th>\n",
       "      <td>56</td>\n",
       "      <td>68</td>\n",
       "    </tr>\n",
       "    <tr>\n",
       "      <th>2</th>\n",
       "      <td>88</td>\n",
       "      <td>81</td>\n",
       "    </tr>\n",
       "    <tr>\n",
       "      <th>3</th>\n",
       "      <td>70</td>\n",
       "      <td>80</td>\n",
       "    </tr>\n",
       "    <tr>\n",
       "      <th>4</th>\n",
       "      <td>80</td>\n",
       "      <td>83</td>\n",
       "    </tr>\n",
       "    <tr>\n",
       "      <th>5</th>\n",
       "      <td>49</td>\n",
       "      <td>52</td>\n",
       "    </tr>\n",
       "    <tr>\n",
       "      <th>6</th>\n",
       "      <td>65</td>\n",
       "      <td>66</td>\n",
       "    </tr>\n",
       "    <tr>\n",
       "      <th>7</th>\n",
       "      <td>35</td>\n",
       "      <td>30</td>\n",
       "    </tr>\n",
       "    <tr>\n",
       "      <th>8</th>\n",
       "      <td>66</td>\n",
       "      <td>68</td>\n",
       "    </tr>\n",
       "    <tr>\n",
       "      <th>9</th>\n",
       "      <td>67</td>\n",
       "      <td>73</td>\n",
       "    </tr>\n",
       "  </tbody>\n",
       "</table>\n",
       "</div>"
      ],
      "text/plain": [
       "   math  cs\n",
       "0    92  98\n",
       "1    56  68\n",
       "2    88  81\n",
       "3    70  80\n",
       "4    80  83\n",
       "5    49  52\n",
       "6    65  66\n",
       "7    35  30\n",
       "8    66  68\n",
       "9    67  73"
      ]
     },
     "execution_count": 12,
     "metadata": {},
     "output_type": "execute_result"
    }
   ],
   "source": [
    "new_df=df.drop('name',axis='columns')\n",
    "new_df"
   ]
  },
  {
   "cell_type": "code",
   "execution_count": 15,
   "metadata": {},
   "outputs": [
    {
     "data": {
      "text/plain": [
       "LinearRegression(copy_X=True, fit_intercept=True, n_jobs=None, normalize=False)"
      ]
     },
     "execution_count": 15,
     "metadata": {},
     "output_type": "execute_result"
    }
   ],
   "source": [
    "model=linear_model.LinearRegression()\n",
    "model.fit(new_df[['math']],new_df.cs)"
   ]
  },
  {
   "cell_type": "code",
   "execution_count": 21,
   "metadata": {},
   "outputs": [
    {
     "data": {
      "text/plain": [
       "array([95.54695319])"
      ]
     },
     "execution_count": 21,
     "metadata": {},
     "output_type": "execute_result"
    }
   ],
   "source": [
    "model.predict([[92]])"
   ]
  },
  {
   "cell_type": "code",
   "execution_count": null,
   "metadata": {},
   "outputs": [],
   "source": []
  }
 ],
 "metadata": {
  "kernelspec": {
   "display_name": "Python 3",
   "language": "python",
   "name": "python3"
  },
  "language_info": {
   "codemirror_mode": {
    "name": "ipython",
    "version": 3
   },
   "file_extension": ".py",
   "mimetype": "text/x-python",
   "name": "python",
   "nbconvert_exporter": "python",
   "pygments_lexer": "ipython3",
   "version": "3.7.6"
  }
 },
 "nbformat": 4,
 "nbformat_minor": 4
}
